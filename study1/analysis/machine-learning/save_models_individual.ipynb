{
 "cells": [
  {
   "cell_type": "markdown",
   "id": "9a2ea767-70a4-4578-aaf8-dfa75cfe6bea",
   "metadata": {},
   "source": [
    "# Individual Model Generation\n",
    "\n",
    "Individual models are generated in this file. These models use 80% of a subject's data for training and 20% for testing.\n",
    "\n",
    "The models are saved in a CSV file called `train_individual.csv` for the training models and `test_individual.csv` for the testing models. The feature importance data is also saved for each model. This data is saved in a CSV file called `feature_importance_individual.csv`. These files are in the directory `outputs/individual/`."
   ]
  },
  {
   "cell_type": "code",
   "execution_count": 3,
   "id": "40a8167b-976d-4bd5-b230-7ff98cd7d77c",
   "metadata": {},
   "outputs": [],
   "source": [
    "from pycaret.datasets import get_data\n",
    "from pycaret.regression import *\n",
    "import csv\n",
    "import pandas as pd"
   ]
  },
  {
   "cell_type": "code",
   "execution_count": null,
   "id": "9e43bfc7-a052-4339-a547-2ac2291fd979",
   "metadata": {
    "collapsed": true,
    "jupyter": {
     "outputs_hidden": true
    },
    "tags": []
   },
   "outputs": [],
   "source": [
    "%%capture\n",
    "data_dir = '../../data'\n",
    "outputs_dir = '../../outputs/individual'\n",
    "df = read(f'{data_dir}/initial_features')"
   ]
  },
  {
   "cell_type": "code",
   "execution_count": 5,
   "id": "50894317",
   "metadata": {},
   "outputs": [],
   "source": [
    "def split_fourths(group):\n",
    "    n = len(group)\n",
    "    index_25 = int(n * 0.25)\n",
    "    index_50 = int(n * 0.50)\n",
    "    index_75 = int(n * 0.75)\n",
    "    train_segments = [group.iloc[0:index_25], group.iloc[index_50:index_75]]\n",
    "    test_segments = [group.iloc[index_25:index_50], group.iloc[index_75:n]]\n",
    "    return pd.concat(train_segments, ignore_index=True), pd.concat(test_segments, ignore_index=True)"
   ]
  },
  {
   "cell_type": "code",
   "execution_count": null,
   "id": "94e856d7-6daf-4a1a-9af6-6b1c2279c491",
   "metadata": {
    "collapsed": true,
    "jupyter": {
     "outputs_hidden": true
    },
    "tags": []
   },
   "outputs": [],
   "source": [
    "%%capture\n",
    "train_individual_df = pd.DataFrame(columns=[\"Model\", \"MAE\", \"MSE\", \"RMSE\", \"R2\", \"RMSLE\", \"MAPE\", \"TT (Sec)\", \"Subject\"])\n",
    "test_individual_df = pd.DataFrame(columns=[\"Model\", \"MAE\", \"MSE\", \"RMSE\", \"R2\", \"RMSLE\", \"MAPE\", \"Subject\"])\n",
    "feature_importance_individual_df = pd.DataFrame(columns=[\"Feature\", \"Value\", \"Model\", \"Subject\"])\n",
    "\n",
    "\n",
    "for subject in df['subject'].unique():\n",
    "    # New way!\n",
    "    df_subject = df[df['subject'] == subject]\n",
    "    train_frames = []\n",
    "    test_frames = []\n",
    "\n",
    "    for _, group in df_subject.groupby('experimental_condition'):\n",
    "        train_segment, test_segment = split_fourths(group)\n",
    "        train_frames.append(train_segment)\n",
    "        test_frames.append(test_segment)\n",
    "\n",
    "    train = pd.concat(train_frames, ignore_index=True)\n",
    "    test = pd.concat(test_frames, ignore_index=True)\n",
    "\n",
    "    reg = setup(\n",
    "        data = train, test_data = test,\n",
    "        target='rpe', index = False,\n",
    "        ignore_features=['experimental_condition', 'subject', 'wrist_acc_time'],\n",
    "        use_gpu = True, session_id = 2024)\n",
    "\n",
    "    best = compare_models(sort='MAE', n_select = 18)\n",
    "    all = pull()\n",
    "    all['Subject'] = str(subject)\n",
    "\n",
    "    train_individual_df = pd.concat([train_individual_df, all], ignore_index=True)\n",
    "\n",
    "    test_results = pd.DataFrame()\n",
    "    for model in best:\n",
    "        test_result = predict_model(model, verbose = False)\n",
    "        test_result = pull()\n",
    "        test_results = test_results.append(test_result)\n",
    "\n",
    "        try:\n",
    "            importance = pd.DataFrame({'Feature': get_config('X_train').columns, 'Value' : abs(model.feature_importances_)}).sort_values(by='Value', ascending=False).reset_index().drop('index', axis=1)\n",
    "        except:\n",
    "            try:\n",
    "                importance = pd.DataFrame({'Feature': get_config('X_train').columns, 'Value' : abs(model.coef_)}).sort_values(by='Value', ascending=False).reset_index().drop('index', axis=1)\n",
    "            except:\n",
    "                importance = pd.DataFrame({'Feature': ['error'], 'Value': [0]})\n",
    "        importance['Model'] = str(model)\n",
    "        importance['Subject'] = str(subject)\n",
    "\n",
    "        feature_importance_individual_df = pd.concat([feature_importance_individual_df, importance], ignore_index=True)\n",
    "\n",
    "\n",
    "    test_results['Subject'] = str(subject)\n",
    "    test_individual_df = pd.concat([test_individual_df, test_results], ignore_index=True)\n",
    "\n",
    "\n",
    "train_individual_df.to_csv(f'{outputs_dir}/train_individual.csv', header=True, index=False)\n",
    "test_individual_df.to_csv(f'{outputs_dir}/test_individual.csv', header=True, index=False)\n",
    "feature_importance_individual_df.to_csv(f'{outputs_dir}/feature_importance_individual.csv', header=True, index=False)"
   ]
  }
 ],
 "metadata": {
  "kernelspec": {
   "display_name": "venv",
   "language": "python",
   "name": "python3"
  },
  "language_info": {
   "codemirror_mode": {
    "name": "ipython",
    "version": 3
   },
   "file_extension": ".py",
   "mimetype": "text/x-python",
   "name": "python",
   "nbconvert_exporter": "python",
   "pygments_lexer": "ipython3",
   "version": "3.9.12"
  }
 },
 "nbformat": 4,
 "nbformat_minor": 5
}
