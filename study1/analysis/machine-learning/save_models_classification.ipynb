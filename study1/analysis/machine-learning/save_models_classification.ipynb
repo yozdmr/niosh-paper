{
 "cells": [
  {
   "cell_type": "markdown",
   "metadata": {},
   "source": [
    "# Classification Model Generation\n",
    "\n",
    "Classification models are generated in this file. The data used in this model is constructed in the \"Classification Dataset\" section of `data_construction.ipynb`.\n",
    "\n",
    "For $n$ subjects, the models use $n - 3$ of the subjects' data for training, and $3$ for testing.\n",
    "\n",
    "The total number of combinations of the $n - 3$ training subjects and $3$ testing subjects is $n \\choose 3$. For each combination of $n - 3$ training subjects and $3$ testing subjects, 18 models are generated.\n",
    "\n",
    "The models are generated and then saved in a CSV file called `train_general.csv` for the training models and `test_general.csv` for the testing models. The feature importance data is also saved for each model. This data is saved in a CSV file called `feature_importance_general.csv`. These files are in the directory `outputs/general/`."
   ]
  },
  {
   "cell_type": "code",
   "execution_count": 1,
   "metadata": {},
   "outputs": [],
   "source": [
    "from pandas import read_csv as read\n",
    "from pycaret.classification import *\n",
    "from itertools import combinations\n",
    "import csv\n",
    "import pandas as pd"
   ]
  },
  {
   "cell_type": "code",
   "execution_count": null,
   "metadata": {},
   "outputs": [],
   "source": [
    "%%capture\n",
    "data_dir = '../../data'\n",
    "outputs_dir = '../../outputs/classification'\n",
    "df = read(f'{data_dir}/initial_features_classification')\n",
    "\n",
    "# The number of subjects used in testing data. Should be set to 3 to match the data used in results.\n",
    "COMBINATIONS = 3\n",
    "\n",
    "combinations_list = list(combinations(df['subject'].unique(), COMBINATIONS))"
   ]
  },
  {
   "cell_type": "code",
   "execution_count": null,
   "metadata": {},
   "outputs": [],
   "source": [
    "train_general_df = pd.DataFrame()\n",
    "test_general_df = pd.DataFrame()\n",
    "feature_importance_general_df = pd.DataFrame()\n",
    "\n",
    "for sub in combinations_list:  # EX: [(2, 3, 6)]\n",
    "    # Split data into training and testing based on subject\n",
    "    train = df[~df['subject'].isin(sub)]\n",
    "    test = df[df['subject'].isin(sub)]\n",
    "\n",
    "    clf = setup(data=train, target='rpe', ignore_features=['experimental_condition', 'subject', 'wrist_acc_time'], verbose=False)\n",
    "    best = compare_models(sort='Accuracy', n_select=18)\n",
    "    all = pull()\n",
    "    all['test_set'] = str(sub)\n",
    "\n",
    "    # Append trained model results to dataframe\n",
    "    train_general_df = pd.concat([train_general_df, all], ignore_index=True)\n",
    "    \n",
    "    test_results = pd.DataFrame()\n",
    "    for model in best:\n",
    "        # Run models on test data\n",
    "        test_result = predict_model(model, data=test, verbose=False)\n",
    "        test_result_df = pull()\n",
    "        test_result_df['Model'] = str(model).split('(')[0]\n",
    "        test_result_df['test_set'] = str(sub)\n",
    "        test_results = pd.concat([test_results, test_result_df], ignore_index=True)\n",
    "        \n",
    "        # Add feature importance of model to dataframe\n",
    "        try:\n",
    "            importance = pd.DataFrame({'Feature': get_config('X_train').columns, 'Value': abs(model.feature_importances_)}).sort_values(by='Value', ascending=False).reset_index(drop=True)\n",
    "        except:\n",
    "            try:\n",
    "                importance = pd.DataFrame({'Feature': get_config('X_train').columns, 'Value': abs(model.coef_)}).sort_values(by='Value', ascending=False).reset_index(drop=True)\n",
    "            except:\n",
    "                importance = pd.DataFrame({'Feature': ['error'], 'Value': [0]})\n",
    "\n",
    "        # Append feature importance to dataframe\n",
    "        importance['Model'] = str(model)\n",
    "        importance['test_subjects'] = str(sub)\n",
    "        feature_importance_general_df = pd.concat([feature_importance_general_df, importance], ignore_index=True)\n",
    "\n",
    "    # Append test model results to dataframe\n",
    "    test_general_df = pd.concat([test_general_df, test_results], ignore_index=True)\n",
    "\n",
    "# Save dataframes to csv\n",
    "train_general_df.to_csv(f'{outputs_dir}/train_classif.csv', index=False)\n",
    "test_general_df.to_csv(f'{outputs_dir}/test_classif.csv', index=False)\n",
    "feature_importance_general_df.to_csv(f'{outputs_dir}/feature_importance_classif.csv', index=False)"
   ]
  }
 ],
 "metadata": {
  "kernelspec": {
   "display_name": ".venv",
   "language": "python",
   "name": "python3"
  },
  "language_info": {
   "codemirror_mode": {
    "name": "ipython",
    "version": 3
   },
   "file_extension": ".py",
   "mimetype": "text/x-python",
   "name": "python",
   "nbconvert_exporter": "python",
   "pygments_lexer": "ipython3",
   "version": "3.9.12"
  }
 },
 "nbformat": 4,
 "nbformat_minor": 4
}
